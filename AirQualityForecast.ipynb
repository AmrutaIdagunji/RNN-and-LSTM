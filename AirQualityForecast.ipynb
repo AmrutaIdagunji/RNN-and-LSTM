{
  "nbformat": 4,
  "nbformat_minor": 0,
  "metadata": {
    "colab": {
      "provenance": [],
      "gpuType": "T4"
    },
    "kernelspec": {
      "name": "python3",
      "display_name": "Python 3"
    },
    "language_info": {
      "name": "python"
    },
    "accelerator": "GPU"
  },
  "cells": [
    {
      "cell_type": "markdown",
      "source": [
        "# Part 2"
      ],
      "metadata": {
        "id": "gd-78sjh8yQd"
      }
    },
    {
      "cell_type": "markdown",
      "source": [
        "## 1. Dataset Selection"
      ],
      "metadata": {
        "id": "BmZfGZNI81bo"
      }
    },
    {
      "cell_type": "markdown",
      "source": [
        "### a. Read and preprocess the dataset"
      ],
      "metadata": {
        "id": "EWB57jF48-Hy"
      }
    },
    {
      "cell_type": "code",
      "execution_count": null,
      "metadata": {
        "colab": {
          "base_uri": "https://localhost:8080/"
        },
        "id": "x3SoWrWc03vl",
        "outputId": "cf91edf1-9018-4fc5-c754-4a3f84633aee"
      },
      "outputs": [
        {
          "output_type": "stream",
          "name": "stdout",
          "text": [
            "GPU: cuda\n"
          ]
        }
      ],
      "source": [
        "import torch\n",
        "import torch.nn as nn\n",
        "import pandas as pd\n",
        "import numpy as np\n",
        "import matplotlib.pyplot as plt\n",
        "from sklearn import preprocessing\n",
        "from torch.utils.data import DataLoader, Dataset\n",
        "\n",
        "device = \"cuda\" if torch.cuda.is_available() else \"cpu\"\n",
        "print(f\"GPU: {device}\")"
      ]
    },
    {
      "cell_type": "code",
      "source": [
        "dataset = pd.read_csv('AirQualityUCI.csv', delimiter=';')\n",
        "dataset.describe()"
      ],
      "metadata": {
        "colab": {
          "base_uri": "https://localhost:8080/",
          "height": 291
        },
        "id": "I9DGip9i6DeW",
        "outputId": "d8f1d868-b3c5-4e63-981c-f7ab3bad69cf"
      },
      "execution_count": null,
      "outputs": [
        {
          "output_type": "execute_result",
          "data": {
            "text/plain": [
              "       PT08.S1(CO)     NMHC(GT)  PT08.S2(NMHC)      NOx(GT)  PT08.S3(NOx)  \\\n",
              "count  9357.000000  9357.000000    9357.000000  9357.000000   9357.000000   \n",
              "mean   1048.990061  -159.090093     894.595276   168.616971    794.990168   \n",
              "std     329.832710   139.789093     342.333252   257.433866    321.993552   \n",
              "min    -200.000000  -200.000000    -200.000000  -200.000000   -200.000000   \n",
              "25%     921.000000  -200.000000     711.000000    50.000000    637.000000   \n",
              "50%    1053.000000  -200.000000     895.000000   141.000000    794.000000   \n",
              "75%    1221.000000  -200.000000    1105.000000   284.000000    960.000000   \n",
              "max    2040.000000  1189.000000    2214.000000  1479.000000   2683.000000   \n",
              "\n",
              "           NO2(GT)  PT08.S4(NO2)  PT08.S5(O3)  Unnamed: 15  Unnamed: 16  \n",
              "count  9357.000000   9357.000000  9357.000000          0.0          0.0  \n",
              "mean     58.148873   1391.479641   975.072032          NaN          NaN  \n",
              "std     126.940455    467.210125   456.938184          NaN          NaN  \n",
              "min    -200.000000   -200.000000  -200.000000          NaN          NaN  \n",
              "25%      53.000000   1185.000000   700.000000          NaN          NaN  \n",
              "50%      96.000000   1446.000000   942.000000          NaN          NaN  \n",
              "75%     133.000000   1662.000000  1255.000000          NaN          NaN  \n",
              "max     340.000000   2775.000000  2523.000000          NaN          NaN  "
            ],
            "text/html": [
              "\n",
              "  <div id=\"df-6e62bb3c-fabe-46f4-b2b3-244a8bf3bf01\">\n",
              "    <div class=\"colab-df-container\">\n",
              "      <div>\n",
              "<style scoped>\n",
              "    .dataframe tbody tr th:only-of-type {\n",
              "        vertical-align: middle;\n",
              "    }\n",
              "\n",
              "    .dataframe tbody tr th {\n",
              "        vertical-align: top;\n",
              "    }\n",
              "\n",
              "    .dataframe thead th {\n",
              "        text-align: right;\n",
              "    }\n",
              "</style>\n",
              "<table border=\"1\" class=\"dataframe\">\n",
              "  <thead>\n",
              "    <tr style=\"text-align: right;\">\n",
              "      <th></th>\n",
              "      <th>PT08.S1(CO)</th>\n",
              "      <th>NMHC(GT)</th>\n",
              "      <th>PT08.S2(NMHC)</th>\n",
              "      <th>NOx(GT)</th>\n",
              "      <th>PT08.S3(NOx)</th>\n",
              "      <th>NO2(GT)</th>\n",
              "      <th>PT08.S4(NO2)</th>\n",
              "      <th>PT08.S5(O3)</th>\n",
              "      <th>Unnamed: 15</th>\n",
              "      <th>Unnamed: 16</th>\n",
              "    </tr>\n",
              "  </thead>\n",
              "  <tbody>\n",
              "    <tr>\n",
              "      <th>count</th>\n",
              "      <td>9357.000000</td>\n",
              "      <td>9357.000000</td>\n",
              "      <td>9357.000000</td>\n",
              "      <td>9357.000000</td>\n",
              "      <td>9357.000000</td>\n",
              "      <td>9357.000000</td>\n",
              "      <td>9357.000000</td>\n",
              "      <td>9357.000000</td>\n",
              "      <td>0.0</td>\n",
              "      <td>0.0</td>\n",
              "    </tr>\n",
              "    <tr>\n",
              "      <th>mean</th>\n",
              "      <td>1048.990061</td>\n",
              "      <td>-159.090093</td>\n",
              "      <td>894.595276</td>\n",
              "      <td>168.616971</td>\n",
              "      <td>794.990168</td>\n",
              "      <td>58.148873</td>\n",
              "      <td>1391.479641</td>\n",
              "      <td>975.072032</td>\n",
              "      <td>NaN</td>\n",
              "      <td>NaN</td>\n",
              "    </tr>\n",
              "    <tr>\n",
              "      <th>std</th>\n",
              "      <td>329.832710</td>\n",
              "      <td>139.789093</td>\n",
              "      <td>342.333252</td>\n",
              "      <td>257.433866</td>\n",
              "      <td>321.993552</td>\n",
              "      <td>126.940455</td>\n",
              "      <td>467.210125</td>\n",
              "      <td>456.938184</td>\n",
              "      <td>NaN</td>\n",
              "      <td>NaN</td>\n",
              "    </tr>\n",
              "    <tr>\n",
              "      <th>min</th>\n",
              "      <td>-200.000000</td>\n",
              "      <td>-200.000000</td>\n",
              "      <td>-200.000000</td>\n",
              "      <td>-200.000000</td>\n",
              "      <td>-200.000000</td>\n",
              "      <td>-200.000000</td>\n",
              "      <td>-200.000000</td>\n",
              "      <td>-200.000000</td>\n",
              "      <td>NaN</td>\n",
              "      <td>NaN</td>\n",
              "    </tr>\n",
              "    <tr>\n",
              "      <th>25%</th>\n",
              "      <td>921.000000</td>\n",
              "      <td>-200.000000</td>\n",
              "      <td>711.000000</td>\n",
              "      <td>50.000000</td>\n",
              "      <td>637.000000</td>\n",
              "      <td>53.000000</td>\n",
              "      <td>1185.000000</td>\n",
              "      <td>700.000000</td>\n",
              "      <td>NaN</td>\n",
              "      <td>NaN</td>\n",
              "    </tr>\n",
              "    <tr>\n",
              "      <th>50%</th>\n",
              "      <td>1053.000000</td>\n",
              "      <td>-200.000000</td>\n",
              "      <td>895.000000</td>\n",
              "      <td>141.000000</td>\n",
              "      <td>794.000000</td>\n",
              "      <td>96.000000</td>\n",
              "      <td>1446.000000</td>\n",
              "      <td>942.000000</td>\n",
              "      <td>NaN</td>\n",
              "      <td>NaN</td>\n",
              "    </tr>\n",
              "    <tr>\n",
              "      <th>75%</th>\n",
              "      <td>1221.000000</td>\n",
              "      <td>-200.000000</td>\n",
              "      <td>1105.000000</td>\n",
              "      <td>284.000000</td>\n",
              "      <td>960.000000</td>\n",
              "      <td>133.000000</td>\n",
              "      <td>1662.000000</td>\n",
              "      <td>1255.000000</td>\n",
              "      <td>NaN</td>\n",
              "      <td>NaN</td>\n",
              "    </tr>\n",
              "    <tr>\n",
              "      <th>max</th>\n",
              "      <td>2040.000000</td>\n",
              "      <td>1189.000000</td>\n",
              "      <td>2214.000000</td>\n",
              "      <td>1479.000000</td>\n",
              "      <td>2683.000000</td>\n",
              "      <td>340.000000</td>\n",
              "      <td>2775.000000</td>\n",
              "      <td>2523.000000</td>\n",
              "      <td>NaN</td>\n",
              "      <td>NaN</td>\n",
              "    </tr>\n",
              "  </tbody>\n",
              "</table>\n",
              "</div>\n",
              "      <button class=\"colab-df-convert\" onclick=\"convertToInteractive('df-6e62bb3c-fabe-46f4-b2b3-244a8bf3bf01')\"\n",
              "              title=\"Convert this dataframe to an interactive table.\"\n",
              "              style=\"display:none;\">\n",
              "        \n",
              "  <svg xmlns=\"http://www.w3.org/2000/svg\" height=\"24px\"viewBox=\"0 0 24 24\"\n",
              "       width=\"24px\">\n",
              "    <path d=\"M0 0h24v24H0V0z\" fill=\"none\"/>\n",
              "    <path d=\"M18.56 5.44l.94 2.06.94-2.06 2.06-.94-2.06-.94-.94-2.06-.94 2.06-2.06.94zm-11 1L8.5 8.5l.94-2.06 2.06-.94-2.06-.94L8.5 2.5l-.94 2.06-2.06.94zm10 10l.94 2.06.94-2.06 2.06-.94-2.06-.94-.94-2.06-.94 2.06-2.06.94z\"/><path d=\"M17.41 7.96l-1.37-1.37c-.4-.4-.92-.59-1.43-.59-.52 0-1.04.2-1.43.59L10.3 9.45l-7.72 7.72c-.78.78-.78 2.05 0 2.83L4 21.41c.39.39.9.59 1.41.59.51 0 1.02-.2 1.41-.59l7.78-7.78 2.81-2.81c.8-.78.8-2.07 0-2.86zM5.41 20L4 18.59l7.72-7.72 1.47 1.35L5.41 20z\"/>\n",
              "  </svg>\n",
              "      </button>\n",
              "      \n",
              "  <style>\n",
              "    .colab-df-container {\n",
              "      display:flex;\n",
              "      flex-wrap:wrap;\n",
              "      gap: 12px;\n",
              "    }\n",
              "\n",
              "    .colab-df-convert {\n",
              "      background-color: #E8F0FE;\n",
              "      border: none;\n",
              "      border-radius: 50%;\n",
              "      cursor: pointer;\n",
              "      display: none;\n",
              "      fill: #1967D2;\n",
              "      height: 32px;\n",
              "      padding: 0 0 0 0;\n",
              "      width: 32px;\n",
              "    }\n",
              "\n",
              "    .colab-df-convert:hover {\n",
              "      background-color: #E2EBFA;\n",
              "      box-shadow: 0px 1px 2px rgba(60, 64, 67, 0.3), 0px 1px 3px 1px rgba(60, 64, 67, 0.15);\n",
              "      fill: #174EA6;\n",
              "    }\n",
              "\n",
              "    [theme=dark] .colab-df-convert {\n",
              "      background-color: #3B4455;\n",
              "      fill: #D2E3FC;\n",
              "    }\n",
              "\n",
              "    [theme=dark] .colab-df-convert:hover {\n",
              "      background-color: #434B5C;\n",
              "      box-shadow: 0px 1px 3px 1px rgba(0, 0, 0, 0.15);\n",
              "      filter: drop-shadow(0px 1px 2px rgba(0, 0, 0, 0.3));\n",
              "      fill: #FFFFFF;\n",
              "    }\n",
              "  </style>\n",
              "\n",
              "      <script>\n",
              "        const buttonEl =\n",
              "          document.querySelector('#df-6e62bb3c-fabe-46f4-b2b3-244a8bf3bf01 button.colab-df-convert');\n",
              "        buttonEl.style.display =\n",
              "          google.colab.kernel.accessAllowed ? 'block' : 'none';\n",
              "\n",
              "        async function convertToInteractive(key) {\n",
              "          const element = document.querySelector('#df-6e62bb3c-fabe-46f4-b2b3-244a8bf3bf01');\n",
              "          const dataTable =\n",
              "            await google.colab.kernel.invokeFunction('convertToInteractive',\n",
              "                                                     [key], {});\n",
              "          if (!dataTable) return;\n",
              "\n",
              "          const docLinkHtml = 'Like what you see? Visit the ' +\n",
              "            '<a target=\"_blank\" href=https://colab.research.google.com/notebooks/data_table.ipynb>data table notebook</a>'\n",
              "            + ' to learn more about interactive tables.';\n",
              "          element.innerHTML = '';\n",
              "          dataTable['output_type'] = 'display_data';\n",
              "          await google.colab.output.renderOutput(dataTable, element);\n",
              "          const docLink = document.createElement('div');\n",
              "          docLink.innerHTML = docLinkHtml;\n",
              "          element.appendChild(docLink);\n",
              "        }\n",
              "      </script>\n",
              "    </div>\n",
              "  </div>\n",
              "  "
            ]
          },
          "metadata": {},
          "execution_count": 2
        }
      ]
    },
    {
      "cell_type": "code",
      "source": [
        "dataset.drop([\"Unnamed: 15\", \"Unnamed: 16\"], axis = 1, inplace = True)\n",
        "dataset.dropna(inplace=True)\n",
        "dataset.head()"
      ],
      "metadata": {
        "colab": {
          "base_uri": "https://localhost:8080/",
          "height": 244
        },
        "id": "VlQ3LTbOCa7O",
        "outputId": "eca76b52-484f-420a-de4e-7697a5f1b5e5"
      },
      "execution_count": null,
      "outputs": [
        {
          "output_type": "execute_result",
          "data": {
            "text/plain": [
              "         Date      Time CO(GT)  PT08.S1(CO)  NMHC(GT) C6H6(GT)  PT08.S2(NMHC)  \\\n",
              "0  10/03/2004  18.00.00    2,6       1360.0     150.0     11,9         1046.0   \n",
              "1  10/03/2004  19.00.00      2       1292.0     112.0      9,4          955.0   \n",
              "2  10/03/2004  20.00.00    2,2       1402.0      88.0      9,0          939.0   \n",
              "3  10/03/2004  21.00.00    2,2       1376.0      80.0      9,2          948.0   \n",
              "4  10/03/2004  22.00.00    1,6       1272.0      51.0      6,5          836.0   \n",
              "\n",
              "   NOx(GT)  PT08.S3(NOx)  NO2(GT)  PT08.S4(NO2)  PT08.S5(O3)     T    RH  \\\n",
              "0    166.0        1056.0    113.0        1692.0       1268.0  13,6  48,9   \n",
              "1    103.0        1174.0     92.0        1559.0        972.0  13,3  47,7   \n",
              "2    131.0        1140.0    114.0        1555.0       1074.0  11,9  54,0   \n",
              "3    172.0        1092.0    122.0        1584.0       1203.0  11,0  60,0   \n",
              "4    131.0        1205.0    116.0        1490.0       1110.0  11,2  59,6   \n",
              "\n",
              "       AH  \n",
              "0  0,7578  \n",
              "1  0,7255  \n",
              "2  0,7502  \n",
              "3  0,7867  \n",
              "4  0,7888  "
            ],
            "text/html": [
              "\n",
              "  <div id=\"df-b1c7bbdb-561b-4594-9191-292dbc9fbde7\">\n",
              "    <div class=\"colab-df-container\">\n",
              "      <div>\n",
              "<style scoped>\n",
              "    .dataframe tbody tr th:only-of-type {\n",
              "        vertical-align: middle;\n",
              "    }\n",
              "\n",
              "    .dataframe tbody tr th {\n",
              "        vertical-align: top;\n",
              "    }\n",
              "\n",
              "    .dataframe thead th {\n",
              "        text-align: right;\n",
              "    }\n",
              "</style>\n",
              "<table border=\"1\" class=\"dataframe\">\n",
              "  <thead>\n",
              "    <tr style=\"text-align: right;\">\n",
              "      <th></th>\n",
              "      <th>Date</th>\n",
              "      <th>Time</th>\n",
              "      <th>CO(GT)</th>\n",
              "      <th>PT08.S1(CO)</th>\n",
              "      <th>NMHC(GT)</th>\n",
              "      <th>C6H6(GT)</th>\n",
              "      <th>PT08.S2(NMHC)</th>\n",
              "      <th>NOx(GT)</th>\n",
              "      <th>PT08.S3(NOx)</th>\n",
              "      <th>NO2(GT)</th>\n",
              "      <th>PT08.S4(NO2)</th>\n",
              "      <th>PT08.S5(O3)</th>\n",
              "      <th>T</th>\n",
              "      <th>RH</th>\n",
              "      <th>AH</th>\n",
              "    </tr>\n",
              "  </thead>\n",
              "  <tbody>\n",
              "    <tr>\n",
              "      <th>0</th>\n",
              "      <td>10/03/2004</td>\n",
              "      <td>18.00.00</td>\n",
              "      <td>2,6</td>\n",
              "      <td>1360.0</td>\n",
              "      <td>150.0</td>\n",
              "      <td>11,9</td>\n",
              "      <td>1046.0</td>\n",
              "      <td>166.0</td>\n",
              "      <td>1056.0</td>\n",
              "      <td>113.0</td>\n",
              "      <td>1692.0</td>\n",
              "      <td>1268.0</td>\n",
              "      <td>13,6</td>\n",
              "      <td>48,9</td>\n",
              "      <td>0,7578</td>\n",
              "    </tr>\n",
              "    <tr>\n",
              "      <th>1</th>\n",
              "      <td>10/03/2004</td>\n",
              "      <td>19.00.00</td>\n",
              "      <td>2</td>\n",
              "      <td>1292.0</td>\n",
              "      <td>112.0</td>\n",
              "      <td>9,4</td>\n",
              "      <td>955.0</td>\n",
              "      <td>103.0</td>\n",
              "      <td>1174.0</td>\n",
              "      <td>92.0</td>\n",
              "      <td>1559.0</td>\n",
              "      <td>972.0</td>\n",
              "      <td>13,3</td>\n",
              "      <td>47,7</td>\n",
              "      <td>0,7255</td>\n",
              "    </tr>\n",
              "    <tr>\n",
              "      <th>2</th>\n",
              "      <td>10/03/2004</td>\n",
              "      <td>20.00.00</td>\n",
              "      <td>2,2</td>\n",
              "      <td>1402.0</td>\n",
              "      <td>88.0</td>\n",
              "      <td>9,0</td>\n",
              "      <td>939.0</td>\n",
              "      <td>131.0</td>\n",
              "      <td>1140.0</td>\n",
              "      <td>114.0</td>\n",
              "      <td>1555.0</td>\n",
              "      <td>1074.0</td>\n",
              "      <td>11,9</td>\n",
              "      <td>54,0</td>\n",
              "      <td>0,7502</td>\n",
              "    </tr>\n",
              "    <tr>\n",
              "      <th>3</th>\n",
              "      <td>10/03/2004</td>\n",
              "      <td>21.00.00</td>\n",
              "      <td>2,2</td>\n",
              "      <td>1376.0</td>\n",
              "      <td>80.0</td>\n",
              "      <td>9,2</td>\n",
              "      <td>948.0</td>\n",
              "      <td>172.0</td>\n",
              "      <td>1092.0</td>\n",
              "      <td>122.0</td>\n",
              "      <td>1584.0</td>\n",
              "      <td>1203.0</td>\n",
              "      <td>11,0</td>\n",
              "      <td>60,0</td>\n",
              "      <td>0,7867</td>\n",
              "    </tr>\n",
              "    <tr>\n",
              "      <th>4</th>\n",
              "      <td>10/03/2004</td>\n",
              "      <td>22.00.00</td>\n",
              "      <td>1,6</td>\n",
              "      <td>1272.0</td>\n",
              "      <td>51.0</td>\n",
              "      <td>6,5</td>\n",
              "      <td>836.0</td>\n",
              "      <td>131.0</td>\n",
              "      <td>1205.0</td>\n",
              "      <td>116.0</td>\n",
              "      <td>1490.0</td>\n",
              "      <td>1110.0</td>\n",
              "      <td>11,2</td>\n",
              "      <td>59,6</td>\n",
              "      <td>0,7888</td>\n",
              "    </tr>\n",
              "  </tbody>\n",
              "</table>\n",
              "</div>\n",
              "      <button class=\"colab-df-convert\" onclick=\"convertToInteractive('df-b1c7bbdb-561b-4594-9191-292dbc9fbde7')\"\n",
              "              title=\"Convert this dataframe to an interactive table.\"\n",
              "              style=\"display:none;\">\n",
              "        \n",
              "  <svg xmlns=\"http://www.w3.org/2000/svg\" height=\"24px\"viewBox=\"0 0 24 24\"\n",
              "       width=\"24px\">\n",
              "    <path d=\"M0 0h24v24H0V0z\" fill=\"none\"/>\n",
              "    <path d=\"M18.56 5.44l.94 2.06.94-2.06 2.06-.94-2.06-.94-.94-2.06-.94 2.06-2.06.94zm-11 1L8.5 8.5l.94-2.06 2.06-.94-2.06-.94L8.5 2.5l-.94 2.06-2.06.94zm10 10l.94 2.06.94-2.06 2.06-.94-2.06-.94-.94-2.06-.94 2.06-2.06.94z\"/><path d=\"M17.41 7.96l-1.37-1.37c-.4-.4-.92-.59-1.43-.59-.52 0-1.04.2-1.43.59L10.3 9.45l-7.72 7.72c-.78.78-.78 2.05 0 2.83L4 21.41c.39.39.9.59 1.41.59.51 0 1.02-.2 1.41-.59l7.78-7.78 2.81-2.81c.8-.78.8-2.07 0-2.86zM5.41 20L4 18.59l7.72-7.72 1.47 1.35L5.41 20z\"/>\n",
              "  </svg>\n",
              "      </button>\n",
              "      \n",
              "  <style>\n",
              "    .colab-df-container {\n",
              "      display:flex;\n",
              "      flex-wrap:wrap;\n",
              "      gap: 12px;\n",
              "    }\n",
              "\n",
              "    .colab-df-convert {\n",
              "      background-color: #E8F0FE;\n",
              "      border: none;\n",
              "      border-radius: 50%;\n",
              "      cursor: pointer;\n",
              "      display: none;\n",
              "      fill: #1967D2;\n",
              "      height: 32px;\n",
              "      padding: 0 0 0 0;\n",
              "      width: 32px;\n",
              "    }\n",
              "\n",
              "    .colab-df-convert:hover {\n",
              "      background-color: #E2EBFA;\n",
              "      box-shadow: 0px 1px 2px rgba(60, 64, 67, 0.3), 0px 1px 3px 1px rgba(60, 64, 67, 0.15);\n",
              "      fill: #174EA6;\n",
              "    }\n",
              "\n",
              "    [theme=dark] .colab-df-convert {\n",
              "      background-color: #3B4455;\n",
              "      fill: #D2E3FC;\n",
              "    }\n",
              "\n",
              "    [theme=dark] .colab-df-convert:hover {\n",
              "      background-color: #434B5C;\n",
              "      box-shadow: 0px 1px 3px 1px rgba(0, 0, 0, 0.15);\n",
              "      filter: drop-shadow(0px 1px 2px rgba(0, 0, 0, 0.3));\n",
              "      fill: #FFFFFF;\n",
              "    }\n",
              "  </style>\n",
              "\n",
              "      <script>\n",
              "        const buttonEl =\n",
              "          document.querySelector('#df-b1c7bbdb-561b-4594-9191-292dbc9fbde7 button.colab-df-convert');\n",
              "        buttonEl.style.display =\n",
              "          google.colab.kernel.accessAllowed ? 'block' : 'none';\n",
              "\n",
              "        async function convertToInteractive(key) {\n",
              "          const element = document.querySelector('#df-b1c7bbdb-561b-4594-9191-292dbc9fbde7');\n",
              "          const dataTable =\n",
              "            await google.colab.kernel.invokeFunction('convertToInteractive',\n",
              "                                                     [key], {});\n",
              "          if (!dataTable) return;\n",
              "\n",
              "          const docLinkHtml = 'Like what you see? Visit the ' +\n",
              "            '<a target=\"_blank\" href=https://colab.research.google.com/notebooks/data_table.ipynb>data table notebook</a>'\n",
              "            + ' to learn more about interactive tables.';\n",
              "          element.innerHTML = '';\n",
              "          dataTable['output_type'] = 'display_data';\n",
              "          await google.colab.output.renderOutput(dataTable, element);\n",
              "          const docLink = document.createElement('div');\n",
              "          docLink.innerHTML = docLinkHtml;\n",
              "          element.appendChild(docLink);\n",
              "        }\n",
              "      </script>\n",
              "    </div>\n",
              "  </div>\n",
              "  "
            ]
          },
          "metadata": {},
          "execution_count": 3
        }
      ]
    },
    {
      "cell_type": "code",
      "source": [
        "dataset['DateTime'] = dataset['Date'] + \" \" + dataset['Time']\n",
        "dataset['DateTime'] = pd.to_datetime(dataset['DateTime'], format='%d/%m/%Y %H.%M.%S')\n",
        "\n",
        "dataset.drop([\"Date\", \"Time\"], axis = 1, inplace = True)\n",
        "dataset.head()"
      ],
      "metadata": {
        "colab": {
          "base_uri": "https://localhost:8080/",
          "height": 244
        },
        "id": "YyjYACcnBYaK",
        "outputId": "7fcc4f2a-b7b6-42ae-c77d-d9a4869410fa"
      },
      "execution_count": null,
      "outputs": [
        {
          "output_type": "execute_result",
          "data": {
            "text/plain": [
              "  CO(GT)  PT08.S1(CO)  NMHC(GT) C6H6(GT)  PT08.S2(NMHC)  NOx(GT)  \\\n",
              "0    2,6       1360.0     150.0     11,9         1046.0    166.0   \n",
              "1      2       1292.0     112.0      9,4          955.0    103.0   \n",
              "2    2,2       1402.0      88.0      9,0          939.0    131.0   \n",
              "3    2,2       1376.0      80.0      9,2          948.0    172.0   \n",
              "4    1,6       1272.0      51.0      6,5          836.0    131.0   \n",
              "\n",
              "   PT08.S3(NOx)  NO2(GT)  PT08.S4(NO2)  PT08.S5(O3)     T    RH      AH  \\\n",
              "0        1056.0    113.0        1692.0       1268.0  13,6  48,9  0,7578   \n",
              "1        1174.0     92.0        1559.0        972.0  13,3  47,7  0,7255   \n",
              "2        1140.0    114.0        1555.0       1074.0  11,9  54,0  0,7502   \n",
              "3        1092.0    122.0        1584.0       1203.0  11,0  60,0  0,7867   \n",
              "4        1205.0    116.0        1490.0       1110.0  11,2  59,6  0,7888   \n",
              "\n",
              "             DateTime  \n",
              "0 2004-03-10 18:00:00  \n",
              "1 2004-03-10 19:00:00  \n",
              "2 2004-03-10 20:00:00  \n",
              "3 2004-03-10 21:00:00  \n",
              "4 2004-03-10 22:00:00  "
            ],
            "text/html": [
              "\n",
              "  <div id=\"df-321cdaaa-8971-40d3-b8f1-fbb09c843f4c\">\n",
              "    <div class=\"colab-df-container\">\n",
              "      <div>\n",
              "<style scoped>\n",
              "    .dataframe tbody tr th:only-of-type {\n",
              "        vertical-align: middle;\n",
              "    }\n",
              "\n",
              "    .dataframe tbody tr th {\n",
              "        vertical-align: top;\n",
              "    }\n",
              "\n",
              "    .dataframe thead th {\n",
              "        text-align: right;\n",
              "    }\n",
              "</style>\n",
              "<table border=\"1\" class=\"dataframe\">\n",
              "  <thead>\n",
              "    <tr style=\"text-align: right;\">\n",
              "      <th></th>\n",
              "      <th>CO(GT)</th>\n",
              "      <th>PT08.S1(CO)</th>\n",
              "      <th>NMHC(GT)</th>\n",
              "      <th>C6H6(GT)</th>\n",
              "      <th>PT08.S2(NMHC)</th>\n",
              "      <th>NOx(GT)</th>\n",
              "      <th>PT08.S3(NOx)</th>\n",
              "      <th>NO2(GT)</th>\n",
              "      <th>PT08.S4(NO2)</th>\n",
              "      <th>PT08.S5(O3)</th>\n",
              "      <th>T</th>\n",
              "      <th>RH</th>\n",
              "      <th>AH</th>\n",
              "      <th>DateTime</th>\n",
              "    </tr>\n",
              "  </thead>\n",
              "  <tbody>\n",
              "    <tr>\n",
              "      <th>0</th>\n",
              "      <td>2,6</td>\n",
              "      <td>1360.0</td>\n",
              "      <td>150.0</td>\n",
              "      <td>11,9</td>\n",
              "      <td>1046.0</td>\n",
              "      <td>166.0</td>\n",
              "      <td>1056.0</td>\n",
              "      <td>113.0</td>\n",
              "      <td>1692.0</td>\n",
              "      <td>1268.0</td>\n",
              "      <td>13,6</td>\n",
              "      <td>48,9</td>\n",
              "      <td>0,7578</td>\n",
              "      <td>2004-03-10 18:00:00</td>\n",
              "    </tr>\n",
              "    <tr>\n",
              "      <th>1</th>\n",
              "      <td>2</td>\n",
              "      <td>1292.0</td>\n",
              "      <td>112.0</td>\n",
              "      <td>9,4</td>\n",
              "      <td>955.0</td>\n",
              "      <td>103.0</td>\n",
              "      <td>1174.0</td>\n",
              "      <td>92.0</td>\n",
              "      <td>1559.0</td>\n",
              "      <td>972.0</td>\n",
              "      <td>13,3</td>\n",
              "      <td>47,7</td>\n",
              "      <td>0,7255</td>\n",
              "      <td>2004-03-10 19:00:00</td>\n",
              "    </tr>\n",
              "    <tr>\n",
              "      <th>2</th>\n",
              "      <td>2,2</td>\n",
              "      <td>1402.0</td>\n",
              "      <td>88.0</td>\n",
              "      <td>9,0</td>\n",
              "      <td>939.0</td>\n",
              "      <td>131.0</td>\n",
              "      <td>1140.0</td>\n",
              "      <td>114.0</td>\n",
              "      <td>1555.0</td>\n",
              "      <td>1074.0</td>\n",
              "      <td>11,9</td>\n",
              "      <td>54,0</td>\n",
              "      <td>0,7502</td>\n",
              "      <td>2004-03-10 20:00:00</td>\n",
              "    </tr>\n",
              "    <tr>\n",
              "      <th>3</th>\n",
              "      <td>2,2</td>\n",
              "      <td>1376.0</td>\n",
              "      <td>80.0</td>\n",
              "      <td>9,2</td>\n",
              "      <td>948.0</td>\n",
              "      <td>172.0</td>\n",
              "      <td>1092.0</td>\n",
              "      <td>122.0</td>\n",
              "      <td>1584.0</td>\n",
              "      <td>1203.0</td>\n",
              "      <td>11,0</td>\n",
              "      <td>60,0</td>\n",
              "      <td>0,7867</td>\n",
              "      <td>2004-03-10 21:00:00</td>\n",
              "    </tr>\n",
              "    <tr>\n",
              "      <th>4</th>\n",
              "      <td>1,6</td>\n",
              "      <td>1272.0</td>\n",
              "      <td>51.0</td>\n",
              "      <td>6,5</td>\n",
              "      <td>836.0</td>\n",
              "      <td>131.0</td>\n",
              "      <td>1205.0</td>\n",
              "      <td>116.0</td>\n",
              "      <td>1490.0</td>\n",
              "      <td>1110.0</td>\n",
              "      <td>11,2</td>\n",
              "      <td>59,6</td>\n",
              "      <td>0,7888</td>\n",
              "      <td>2004-03-10 22:00:00</td>\n",
              "    </tr>\n",
              "  </tbody>\n",
              "</table>\n",
              "</div>\n",
              "      <button class=\"colab-df-convert\" onclick=\"convertToInteractive('df-321cdaaa-8971-40d3-b8f1-fbb09c843f4c')\"\n",
              "              title=\"Convert this dataframe to an interactive table.\"\n",
              "              style=\"display:none;\">\n",
              "        \n",
              "  <svg xmlns=\"http://www.w3.org/2000/svg\" height=\"24px\"viewBox=\"0 0 24 24\"\n",
              "       width=\"24px\">\n",
              "    <path d=\"M0 0h24v24H0V0z\" fill=\"none\"/>\n",
              "    <path d=\"M18.56 5.44l.94 2.06.94-2.06 2.06-.94-2.06-.94-.94-2.06-.94 2.06-2.06.94zm-11 1L8.5 8.5l.94-2.06 2.06-.94-2.06-.94L8.5 2.5l-.94 2.06-2.06.94zm10 10l.94 2.06.94-2.06 2.06-.94-2.06-.94-.94-2.06-.94 2.06-2.06.94z\"/><path d=\"M17.41 7.96l-1.37-1.37c-.4-.4-.92-.59-1.43-.59-.52 0-1.04.2-1.43.59L10.3 9.45l-7.72 7.72c-.78.78-.78 2.05 0 2.83L4 21.41c.39.39.9.59 1.41.59.51 0 1.02-.2 1.41-.59l7.78-7.78 2.81-2.81c.8-.78.8-2.07 0-2.86zM5.41 20L4 18.59l7.72-7.72 1.47 1.35L5.41 20z\"/>\n",
              "  </svg>\n",
              "      </button>\n",
              "      \n",
              "  <style>\n",
              "    .colab-df-container {\n",
              "      display:flex;\n",
              "      flex-wrap:wrap;\n",
              "      gap: 12px;\n",
              "    }\n",
              "\n",
              "    .colab-df-convert {\n",
              "      background-color: #E8F0FE;\n",
              "      border: none;\n",
              "      border-radius: 50%;\n",
              "      cursor: pointer;\n",
              "      display: none;\n",
              "      fill: #1967D2;\n",
              "      height: 32px;\n",
              "      padding: 0 0 0 0;\n",
              "      width: 32px;\n",
              "    }\n",
              "\n",
              "    .colab-df-convert:hover {\n",
              "      background-color: #E2EBFA;\n",
              "      box-shadow: 0px 1px 2px rgba(60, 64, 67, 0.3), 0px 1px 3px 1px rgba(60, 64, 67, 0.15);\n",
              "      fill: #174EA6;\n",
              "    }\n",
              "\n",
              "    [theme=dark] .colab-df-convert {\n",
              "      background-color: #3B4455;\n",
              "      fill: #D2E3FC;\n",
              "    }\n",
              "\n",
              "    [theme=dark] .colab-df-convert:hover {\n",
              "      background-color: #434B5C;\n",
              "      box-shadow: 0px 1px 3px 1px rgba(0, 0, 0, 0.15);\n",
              "      filter: drop-shadow(0px 1px 2px rgba(0, 0, 0, 0.3));\n",
              "      fill: #FFFFFF;\n",
              "    }\n",
              "  </style>\n",
              "\n",
              "      <script>\n",
              "        const buttonEl =\n",
              "          document.querySelector('#df-321cdaaa-8971-40d3-b8f1-fbb09c843f4c button.colab-df-convert');\n",
              "        buttonEl.style.display =\n",
              "          google.colab.kernel.accessAllowed ? 'block' : 'none';\n",
              "\n",
              "        async function convertToInteractive(key) {\n",
              "          const element = document.querySelector('#df-321cdaaa-8971-40d3-b8f1-fbb09c843f4c');\n",
              "          const dataTable =\n",
              "            await google.colab.kernel.invokeFunction('convertToInteractive',\n",
              "                                                     [key], {});\n",
              "          if (!dataTable) return;\n",
              "\n",
              "          const docLinkHtml = 'Like what you see? Visit the ' +\n",
              "            '<a target=\"_blank\" href=https://colab.research.google.com/notebooks/data_table.ipynb>data table notebook</a>'\n",
              "            + ' to learn more about interactive tables.';\n",
              "          element.innerHTML = '';\n",
              "          dataTable['output_type'] = 'display_data';\n",
              "          await google.colab.output.renderOutput(dataTable, element);\n",
              "          const docLink = document.createElement('div');\n",
              "          docLink.innerHTML = docLinkHtml;\n",
              "          element.appendChild(docLink);\n",
              "        }\n",
              "      </script>\n",
              "    </div>\n",
              "  </div>\n",
              "  "
            ]
          },
          "metadata": {},
          "execution_count": 4
        }
      ]
    },
    {
      "cell_type": "code",
      "source": [
        "for i in ['CO(GT)', 'C6H6(GT)', 'T', 'RH', 'AH']:\n",
        "    dataset[i] = dataset[i].str.replace(\",\", \".\")\n",
        "    dataset[i] = dataset[i].astype('float32')"
      ],
      "metadata": {
        "id": "aDvHiPLQH6Ou"
      },
      "execution_count": null,
      "outputs": []
    },
    {
      "cell_type": "code",
      "source": [
        "new_dataset = dataset.replace(-200, np.nan)\n",
        "# exclude the 2 columns with highest null values\n",
        "new_dataset = new_dataset[['DateTime', 'PT08.S1(CO)',  'C6H6(GT)', 'PT08.S2(NMHC)', 'PT08.S3(NOx)', 'PT08.S4(NO2)', 'PT08.S5(O3)', 'AH', 'T']]\n",
        "new_dataset.isna().sum()\n"
      ],
      "metadata": {
        "colab": {
          "base_uri": "https://localhost:8080/"
        },
        "id": "-Hp27Bi-_h-3",
        "outputId": "ea2c5dfa-8450-4c40-ab11-a5c0197191ac"
      },
      "execution_count": null,
      "outputs": [
        {
          "output_type": "execute_result",
          "data": {
            "text/plain": [
              "DateTime           0\n",
              "PT08.S1(CO)      366\n",
              "C6H6(GT)         366\n",
              "PT08.S2(NMHC)    366\n",
              "PT08.S3(NOx)     366\n",
              "PT08.S4(NO2)     366\n",
              "PT08.S5(O3)      366\n",
              "AH               366\n",
              "T                366\n",
              "dtype: int64"
            ]
          },
          "metadata": {},
          "execution_count": 6
        }
      ]
    },
    {
      "cell_type": "code",
      "source": [
        "new_dataset.dropna(inplace = True)\n",
        "new_dataset.info()"
      ],
      "metadata": {
        "colab": {
          "base_uri": "https://localhost:8080/"
        },
        "id": "5kkezyauBQPh",
        "outputId": "7c06bc12-a256-4bf1-b739-314991f6ab75"
      },
      "execution_count": null,
      "outputs": [
        {
          "output_type": "stream",
          "name": "stdout",
          "text": [
            "<class 'pandas.core.frame.DataFrame'>\n",
            "Int64Index: 8991 entries, 0 to 9356\n",
            "Data columns (total 9 columns):\n",
            " #   Column         Non-Null Count  Dtype         \n",
            "---  ------         --------------  -----         \n",
            " 0   DateTime       8991 non-null   datetime64[ns]\n",
            " 1   PT08.S1(CO)    8991 non-null   float64       \n",
            " 2   C6H6(GT)       8991 non-null   float32       \n",
            " 3   PT08.S2(NMHC)  8991 non-null   float64       \n",
            " 4   PT08.S3(NOx)   8991 non-null   float64       \n",
            " 5   PT08.S4(NO2)   8991 non-null   float64       \n",
            " 6   PT08.S5(O3)    8991 non-null   float64       \n",
            " 7   AH             8991 non-null   float32       \n",
            " 8   T              8991 non-null   float32       \n",
            "dtypes: datetime64[ns](1), float32(3), float64(5)\n",
            "memory usage: 597.1 KB\n"
          ]
        }
      ]
    },
    {
      "cell_type": "markdown",
      "source": [
        "### b. Data Visualisation\n"
      ],
      "metadata": {
        "id": "mPQGXzt29HYa"
      }
    },
    {
      "cell_type": "code",
      "source": [
        "# Temperature\n",
        "fig, ax = plt.subplots(figsize=(6, 4))\n",
        "ax.plot(new_dataset.index, new_dataset['T']);"
      ],
      "metadata": {
        "colab": {
          "base_uri": "https://localhost:8080/",
          "height": 367
        },
        "id": "KdFUZdBK9Ndl",
        "outputId": "d5839af6-d29c-4440-9a11-ac8c1a799f6a"
      },
      "execution_count": null,
      "outputs": [
        {
          "output_type": "display_data",
          "data": {
            "text/plain": [
              "<Figure size 600x400 with 1 Axes>"
            ],
            "image/png": "[encoded data removed]"
          },
          "metadata": {}
        }
      ]
    },
    {
      "cell_type": "markdown",
      "source": [
        "##### We can observe a sine wave like pattern"
      ],
      "metadata": {
        "id": "vAa_5-ebI3bu"
      }
    },
    {
      "cell_type": "code",
      "source": [
        "# Indium Oxide concentration\n",
        "fig, ax = plt.subplots(figsize=(6, 4))\n",
        "ax.plot(new_dataset.index, new_dataset['PT08.S5(O3)']);"
      ],
      "metadata": {
        "colab": {
          "base_uri": "https://localhost:8080/",
          "height": 367
        },
        "id": "k0f2WOAI-RcZ",
        "outputId": "438bc365-6103-437b-fe45-e1f10f000d20"
      },
      "execution_count": null,
      "outputs": [
        {
          "output_type": "display_data",
          "data": {
            "text/plain": [
              "<Figure size 600x400 with 1 Axes>"
            ],
            "image/png": "[encoded data removed]"
          },
          "metadata": {}
        }
      ]
    },
    {
      "cell_type": "markdown",
      "source": [
        "#### It's hard to find any pattern in Indium Oxide concentration"
      ],
      "metadata": {
        "id": "Le-8bsLDI8Q2"
      }
    },
    {
      "cell_type": "code",
      "source": [
        "# Absolute Humidity concentration\n",
        "fig, ax = plt.subplots(figsize=(6, 4))\n",
        "ax.plot(new_dataset.index, new_dataset['AH']);"
      ],
      "metadata": {
        "colab": {
          "base_uri": "https://localhost:8080/",
          "height": 367
        },
        "id": "bsCnQFSx-3rI",
        "outputId": "148e2077-5283-494b-d903-d644f72fc696"
      },
      "execution_count": null,
      "outputs": [
        {
          "output_type": "display_data",
          "data": {
            "text/plain": [
              "<Figure size 600x400 with 1 Axes>"
            ],
            "image/png": "[encoded data removed]"
          },
          "metadata": {}
        }
      ]
    },
    {
      "cell_type": "markdown",
      "source": [
        "#### May not be very evident, but there is mild sine-wave pattern followed in Humidity concentration"
      ],
      "metadata": {
        "id": "CRzlcMUgJDtM"
      }
    },
    {
      "cell_type": "markdown",
      "source": [
        "### c. Prepare the dataset for training"
      ],
      "metadata": {
        "id": "MzYh4XW79LKi"
      }
    },
    {
      "cell_type": "code",
      "source": [
        "sequence_length = 10\n",
        "num_samples = len(new_dataset) - sequence_length\n",
        "sub_data = torch.tensor([new_dataset.iloc[i:i+sequence_length, 1:-1].values for i in range(num_samples)], dtype=torch.float)\n",
        "\n",
        "timestamps_numeric = new_dataset['DateTime'].astype(int) // 10**11\n",
        "timestamp = torch.tensor([timestamps_numeric[i:i+sequence_length].values for i in range(num_samples)], dtype=torch.float32)\n",
        "\n",
        "input_data = torch.cat((sub_data, timestamp.unsqueeze(2)), dim = 2)\n",
        "print(input_data.shape)\n"
      ],
      "metadata": {
        "colab": {
          "base_uri": "https://localhost:8080/"
        },
        "id": "Mkq22GlyMbUX",
        "outputId": "eb2e3bee-0929-465c-d10b-9ff5a4fef2c2"
      },
      "execution_count": null,
      "outputs": [
        {
          "output_type": "stream",
          "name": "stderr",
          "text": [
            "<ipython-input-11-81e19f3b17df>:3: UserWarning: Creating a tensor from a list of numpy.ndarrays is extremely slow. Please consider converting the list to a single numpy.ndarray with numpy.array() before converting to a tensor. (Triggered internally at ../torch/csrc/utils/tensor_new.cpp:245.)\n",
            "  sub_data = torch.tensor([new_dataset.iloc[i:i+sequence_length, 1:-1].values for i in range(num_samples)], dtype=torch.float)\n"
          ]
        },
        {
          "output_type": "stream",
          "name": "stdout",
          "text": [
            "torch.Size([8981, 10, 8])\n"
          ]
        }
      ]
    },
    {
      "cell_type": "code",
      "source": [
        "target = torch.tensor(new_dataset.iloc[sequence_length:, -1].values, dtype=torch.float).unsqueeze(1)\n",
        "print(target.shape)"
      ],
      "metadata": {
        "colab": {
          "base_uri": "https://localhost:8080/"
        },
        "id": "z5lDLYUdZIww",
        "outputId": "e594f138-28df-4f78-8a99-b3e72b1af42b"
      },
      "execution_count": null,
      "outputs": [
        {
          "output_type": "stream",
          "name": "stdout",
          "text": [
            "torch.Size([8981, 1])\n"
          ]
        }
      ]
    },
    {
      "cell_type": "code",
      "source": [
        "# Define the dataset class\n",
        "class RNNData(Dataset):\n",
        "    def __init__(self, dataset, target):\n",
        "        self.dataset = dataset\n",
        "        self.target = target\n",
        "\n",
        "    def __getitem__(self, index):\n",
        "        sequence = self.dataset[index]\n",
        "        value = self.target[index]\n",
        "        return sequence, value\n",
        "\n",
        "    def __len__(self):\n",
        "        return len(self.dataset)"
      ],
      "metadata": {
        "id": "YFMuP7FyZRaB"
      },
      "execution_count": null,
      "outputs": []
    },
    {
      "cell_type": "code",
      "source": [
        "data_size = len(input_data)\n",
        "train_size = int(0.7 * data_size)\n",
        "val_size = int(0.15 * data_size)\n",
        "test_size = data_size - train_size - val_size\n",
        "rnn_dataset = RNNData(input_data, target)\n",
        "\n",
        "train_dataset, val_dataset, test_dataset = torch.utils.data.random_split(rnn_dataset, [train_size, val_size, test_size])"
      ],
      "metadata": {
        "id": "ow4qH-c6afak"
      },
      "execution_count": null,
      "outputs": []
    },
    {
      "cell_type": "code",
      "source": [
        "batch_size = 8\n",
        "train_loader = torch.utils.data.DataLoader(train_dataset, batch_size=batch_size, shuffle=True, num_workers=1)\n",
        "test_loader = torch.utils.data.DataLoader(test_dataset, batch_size=batch_size, shuffle=False, num_workers=1)\n",
        "val_loader = torch.utils.data.DataLoader(val_dataset, batch_size=batch_size, shuffle=False, num_workers=1)\n"
      ],
      "metadata": {
        "id": "pGYiwho7aWol"
      },
      "execution_count": null,
      "outputs": []
    },
    {
      "cell_type": "markdown",
      "source": [
        "## 2. Build RNN"
      ],
      "metadata": {
        "id": "xwc_dwM1QEd-"
      }
    },
    {
      "cell_type": "markdown",
      "source": [
        "a. Build the RNN model architecture, that consists of at least three RNN layers."
      ],
      "metadata": {
        "id": "Le64u6a2QB_I"
      }
    },
    {
      "cell_type": "code",
      "source": [
        "class RNN_struct(nn.Module):\n",
        "  def __init__(self, input_size, hidden_size, output_size):\n",
        "    super(RNN_struct, self).__init__()\n",
        "    self.rnn = nn.RNN(input_size, hidden_size = hidden_size, num_layers = num_layers, dropout = 0.3, batch_first=True)\n",
        "    self.fc = nn.Linear(hidden_size, output_size)\n",
        "\n",
        "  def forward(self, input):\n",
        "    output, _ = self.rnn(input)\n",
        "    output = output[:, -1, :]\n",
        "    output = self.fc(output)\n",
        "\n",
        "    return output"
      ],
      "metadata": {
        "id": "KP3WBYzm7V-3"
      },
      "execution_count": null,
      "outputs": []
    },
    {
      "cell_type": "markdown",
      "source": [
        "b. Train RNN model and try various set ups and hyper parameters tuning. Save the weights of the trained model, that returns best results.\n"
      ],
      "metadata": {
        "id": "QVKu598PQTMb"
      }
    },
    {
      "cell_type": "code",
      "source": [
        "def test_model(model, criterion):\n",
        "    test_loss = []\n",
        "    test_acc = []\n",
        "    for inputs, labels in test_loader:\n",
        "        inputs = inputs.to(device)\n",
        "        labels = labels.to(device)\n",
        "\n",
        "        output = model(inputs)\n",
        "        acc = sum([1 if (t + 2 > o and  o > t - 2) else 0 for o, t in zip(output, labels)])\n",
        "        test_acc.append(acc)\n",
        "\n",
        "        loss = criterion(output, labels)\n",
        "        test_loss.append(loss.item())\n",
        "\n",
        "    test_loss = round(sum(test_loss)/(len(test_loader) * batch_size), 4)\n",
        "    test_acc = round(sum(test_acc) * 100/(len(test_loader) * batch_size), 4)\n",
        "    return test_loss, test_acc, output, labels"
      ],
      "metadata": {
        "id": "ZUewSxnKdCiq"
      },
      "execution_count": null,
      "outputs": []
    },
    {
      "cell_type": "code",
      "source": [
        "def val_model(model, criterion):\n",
        "    val_loss = []\n",
        "    val_acc = []\n",
        "    for inputs, labels in val_loader:\n",
        "        inputs = inputs.to(device)\n",
        "        labels = labels.to(device)\n",
        "\n",
        "        output = model(inputs)\n",
        "        acc = sum([1 if (t + 2 > o and  o > t - 2) else 0 for o, t in zip(output, labels)])\n",
        "        val_acc.append(acc)\n",
        "\n",
        "        loss = criterion(output, labels)\n",
        "        val_loss.append(loss.item())\n",
        "\n",
        "    val_loss = round(sum(val_loss)/(len(val_loader) * batch_size), 4)\n",
        "    val_acc = round(sum(val_acc) * 100/(len(val_loader) * batch_size), 4)\n",
        "\n",
        "    return val_loss, val_acc\n"
      ],
      "metadata": {
        "id": "StVurGcWdDE1"
      },
      "execution_count": null,
      "outputs": []
    },
    {
      "cell_type": "code",
      "source": [
        "def plotting_matrix(list_metrices, epoch):\n",
        "    training_acc, training_loss, validation_acc, validation_loss = list_metrices\n",
        "    fig, ax = plt.subplots(1, 2, figsize = (10,5))\n",
        "\n",
        "    ax[0].plot(range(0, epoch + 1), training_acc, label='Training Accuracy')\n",
        "    ax[0].plot(range(0, epoch + 1), validation_acc, label='Validation Accuracy')\n",
        "    ax[0].set_title(f'Training accuracy and validation accuracy for {epoch}')\n",
        "    ax[0].legend(loc='lower right')\n",
        "\n",
        "    ax[1].plot(range(0, epoch + 1), training_loss, label='Training Loss')\n",
        "    ax[1].plot(range(0, epoch + 1), validation_loss, label='Validation Loss')\n",
        "    ax[1].set_title(f'Training loss and validation loss for {epoch}')\n",
        "    ax[1].legend(loc='lower right')\n",
        "\n",
        "    plt.plot()"
      ],
      "metadata": {
        "id": "ItQDfM8mdE0f"
      },
      "execution_count": null,
      "outputs": []
    },
    {
      "cell_type": "code",
      "source": [
        "def train_model(model, criterion, optimizer, num_epochs=50, early_stopping = False, plot_metrics = False):\n",
        "    training_accuracy = []\n",
        "    validation_accuracy = []\n",
        "\n",
        "    training_loss = []\n",
        "    validation_loss = []\n",
        "\n",
        "    best_loss = 999\n",
        "    counter = 0\n",
        "    threshold = 3\n",
        "\n",
        "    for epoch in range(num_epochs):\n",
        "        train_loss = []\n",
        "        train_acc = []\n",
        "        correct_train_pred = 0\n",
        "        train_acc = []\n",
        "\n",
        "        for inputs, labels in train_loader:\n",
        "            inputs = inputs.to(device)\n",
        "            labels = labels.to(device)\n",
        "\n",
        "            output = model(inputs)\n",
        "            loss = criterion(output, labels)\n",
        "            acc = sum([1 if (t + 2 > o and  o > t - 2) else 0 for o, t in zip(output, labels)])\n",
        "\n",
        "            train_loss.append(loss.item())\n",
        "            train_acc.append(acc)\n",
        "\n",
        "            optimizer.zero_grad()\n",
        "            loss.backward()\n",
        "            optimizer.step()\n",
        "\n",
        "        val_loss, val_acc = val_model(model, criterion)\n",
        "\n",
        "        train_loss = round(sum(train_loss)/(len(train_loader) * batch_size), 4)\n",
        "        train_acc = round(sum(train_acc) * 100/(len(train_loader) * batch_size), 4)\n",
        "\n",
        "        training_loss.append(train_loss)\n",
        "        training_accuracy.append(train_acc)\n",
        "\n",
        "        validation_loss.append(val_loss)\n",
        "        validation_accuracy.append(val_acc)\n",
        "\n",
        "        if (epoch + 1) % 10 == 0:\n",
        "          print(f\"Epoch {epoch+1}/{num_epochs}\",  f\"\\nTraining Accuracy: {train_acc}%, Training Loss: {train_loss}\",\n",
        "                f\"Validation Accuracy: {val_acc}%, Validation Loss: {val_loss}\")\n",
        "\n",
        "        if(early_stopping):\n",
        "            if val_loss < best_loss:\n",
        "                best_loss = val_loss\n",
        "                counter = 0\n",
        "            else:\n",
        "                counter += 1\n",
        "                if(counter >= threshold):\n",
        "                  print(\"Early Stopping Encounter\")\n",
        "                  break\n",
        "\n",
        "    if (plot_metrics):\n",
        "        list_metrices = [training_accuracy, training_loss, validation_accuracy, validation_loss]\n",
        "        plotting_matrix(list_metrices, epoch)\n",
        "\n",
        "    return model"
      ],
      "metadata": {
        "id": "Lsj-_-4UdIlD"
      },
      "execution_count": null,
      "outputs": []
    },
    {
      "cell_type": "code",
      "source": [
        "input_size = 8\n",
        "hidden_size = 32\n",
        "output_size = 1\n",
        "num_epochs = 100\n",
        "num_layers = 5\n",
        "\n",
        "rnn = RNN_struct(input_size, hidden_size, output_size).to(device)\n",
        "\n",
        "criterion = nn.MSELoss()\n",
        "optimizer = torch.optim.Adam(rnn.parameters(), lr=0.00001, weight_decay=0.0005)\n",
        "\n",
        "model = train_model(rnn, criterion, optimizer, num_epochs, True, True)"
      ],
      "metadata": {
        "colab": {
          "base_uri": "https://localhost:8080/",
          "height": 796
        },
        "id": "n9vd5oKigHWd",
        "outputId": "cc38ef1c-7c00-47cb-ef20-f600f515f6c7"
      },
      "execution_count": null,
      "outputs": [
        {
          "output_type": "stream",
          "name": "stdout",
          "text": [
            "Epoch 10/100 \n",
            "Training Accuracy: 8.222%, Training Loss: 34.0877 Validation Accuracy: 7.3225%, Validation Loss: 34.0746\n",
            "Epoch 20/100 \n",
            "Training Accuracy: 10.035%, Training Loss: 26.1861 Validation Accuracy: 8.7278%, Validation Loss: 26.1289\n",
            "Epoch 30/100 \n",
            "Training Accuracy: 11.5299%, Training Loss: 20.0393 Validation Accuracy: 12.6479%, Validation Loss: 19.9103\n",
            "Epoch 40/100 \n",
            "Training Accuracy: 15.4103%, Training Loss: 15.4738 Validation Accuracy: 15.8284%, Validation Loss: 15.288\n",
            "Epoch 50/100 \n",
            "Training Accuracy: 17.764%, Training Loss: 12.452 Validation Accuracy: 16.3462%, Validation Loss: 12.2049\n",
            "Epoch 60/100 \n",
            "Training Accuracy: 16.444%, Training Loss: 10.7994 Validation Accuracy: 15.5325%, Validation Loss: 10.4978\n",
            "Epoch 70/100 \n",
            "Training Accuracy: 15.4262%, Training Loss: 10.1347 Validation Accuracy: 14.7189%, Validation Loss: 9.7963\n",
            "Epoch 80/100 \n",
            "Training Accuracy: 15.0127%, Training Loss: 9.9503 Validation Accuracy: 15.0888%, Validation Loss: 9.5849\n",
            "Epoch 90/100 \n",
            "Training Accuracy: 15.2354%, Training Loss: 9.9144 Validation Accuracy: 14.7189%, Validation Loss: 9.5302\n",
            "Epoch 100/100 \n",
            "Training Accuracy: 15.2831%, Training Loss: 9.9072 Validation Accuracy: 15.1627%, Validation Loss: 9.5145\n"
          ]
        },
        {
          "output_type": "display_data",
          "data": {
            "text/plain": [
              "<Figure size 1000x500 with 2 Axes>"
            ],
            "image/png": "[encoded data removed]"
          },
          "metadata": {}
        }
      ]
    },
    {
      "cell_type": "code",
      "source": [
        "# save the model\n",
        "PATH = './best_model.pth'\n",
        "torch.save(rnn.state_dict(), PATH)"
      ],
      "metadata": {
        "id": "7LEZ2bgZNtQJ"
      },
      "execution_count": null,
      "outputs": []
    },
    {
      "cell_type": "code",
      "source": [
        "loss, acc, output, y_pred = test_model(model, criterion)\n",
        "print(f\"testing loss: {loss}, testing accuracy: {acc}\")"
      ],
      "metadata": {
        "colab": {
          "base_uri": "https://localhost:8080/"
        },
        "id": "hvg1Vl1ZEk3b",
        "outputId": "e896af97-7efb-4cbb-814f-5408f7ff2a43"
      },
      "execution_count": null,
      "outputs": [
        {
          "output_type": "stream",
          "name": "stdout",
          "text": [
            "testing loss: 9.2859, testing accuracy: 14.8669\n"
          ]
        }
      ]
    },
    {
      "cell_type": "code",
      "source": [
        "output, y_pred"
      ],
      "metadata": {
        "colab": {
          "base_uri": "https://localhost:8080/"
        },
        "id": "V2AKC7nSGL6t",
        "outputId": "d00c7510-da59-4af1-e9c1-7c0fd753b358"
      },
      "execution_count": null,
      "outputs": [
        {
          "output_type": "execute_result",
          "data": {
            "text/plain": [
              "(tensor([[18.1670],\n",
              "         [18.1663],\n",
              "         [18.1666],\n",
              "         [18.1667]], device='cuda:0', grad_fn=<AddmmBackward0>),\n",
              " tensor([[23.6000],\n",
              "         [10.6000],\n",
              "         [30.3000],\n",
              "         [11.8000]], device='cuda:0'))"
            ]
          },
          "metadata": {},
          "execution_count": 27
        }
      ]
    },
    {
      "cell_type": "markdown",
      "source": [
        "c. Report accuracy and loss for your network\n"
      ],
      "metadata": {
        "id": "bvQ5DvF_Qc0Q"
      }
    },
    {
      "cell_type": "markdown",
      "source": [
        "d. Visualize and analyze the results"
      ],
      "metadata": {
        "id": "tvI6QgShQfLN"
      }
    },
    {
      "cell_type": "code",
      "source": [
        "class LSTM_Struct(nn.Module):\n",
        "  def __init__(self, input_size, hidden_size, output_size):\n",
        "    super(LSTM_Struct, self).__init__()\n",
        "    self.hidden_size = hidden_size\n",
        "    self.lstm = nn.LSTM(input_size, hidden_size = hidden_size, num_layers = num_layers, dropout = 0.5, batch_first=True)\n",
        "    self.fc = nn.Linear(hidden_size, output_size)\n",
        "\n",
        "  def forward(self, input):\n",
        "    output, _ = self.lstm(input)\n",
        "    output = output[:, -1, :]\n",
        "    output = self.fc(output)\n",
        "\n",
        "    return output"
      ],
      "metadata": {
        "id": "huMcxy2vbkuS"
      },
      "execution_count": null,
      "outputs": []
    },
    {
      "cell_type": "code",
      "source": [
        "input_size = 8\n",
        "hidden_size = 36\n",
        "output_size = 1\n",
        "num_epochs = 100\n",
        "num_layers = 30\n",
        "\n",
        "rnn = LSTM_Struct(input_size, hidden_size, output_size).to(device)\n",
        "\n",
        "criterion = nn.MSELoss()\n",
        "optimizer = torch.optim.Adam(rnn.parameters(), lr=0.00005, weight_decay=0.0005)\n",
        "\n",
        "model = train_model(rnn, criterion, optimizer, num_epochs, True, True)"
      ],
      "metadata": {
        "colab": {
          "base_uri": "https://localhost:8080/",
          "height": 582
        },
        "id": "QmdDV-JH5P0q",
        "outputId": "ecbc0a91-57ac-4ee7-d0a7-9eff1b7dc904"
      },
      "execution_count": null,
      "outputs": [
        {
          "output_type": "stream",
          "name": "stdout",
          "text": [
            "Epoch 10/100 \n",
            "Training Accuracy: 17.3982%, Training Loss: 11.5032 Validation Accuracy: 17.3077%, Validation Loss: 11.1343\n",
            "Epoch 20/100 \n",
            "Training Accuracy: 15.0604%, Training Loss: 9.8486 Validation Accuracy: 13.9793%, Validation Loss: 9.6609\n",
            "Epoch 30/100 \n",
            "Training Accuracy: 15.0763%, Training Loss: 9.8475 Validation Accuracy: 14.2751%, Validation Loss: 9.6565\n",
            "Early Stopping Encounter\n"
          ]
        },
        {
          "output_type": "display_data",
          "data": {
            "text/plain": [
              "<Figure size 1000x500 with 2 Axes>"
            ],
            "image/png": "[encoded data removed]"
          },
          "metadata": {}
        }
      ]
    },
    {
      "cell_type": "code",
      "source": [
        "loss, acc, output, y_pred = test_model(model, criterion)\n",
        "print(f\"testing loss: {loss}, testing accuracy: {acc}\")"
      ],
      "metadata": {
        "colab": {
          "base_uri": "https://localhost:8080/"
        },
        "id": "lcqfI3NkUNFH",
        "outputId": "f7d7d626-e859-40fe-fed9-363c6ea89d8e"
      },
      "execution_count": null,
      "outputs": [
        {
          "output_type": "stream",
          "name": "stdout",
          "text": [
            "testing loss: 9.7676, testing accuracy: 16.4201\n"
          ]
        }
      ]
    },
    {
      "cell_type": "code",
      "source": [
        "output, y_pred"
      ],
      "metadata": {
        "colab": {
          "base_uri": "https://localhost:8080/"
        },
        "id": "f3eN85XzUN5Q",
        "outputId": "fce1e9cc-a0f1-4e93-d942-780ed94e5136"
      },
      "execution_count": null,
      "outputs": [
        {
          "output_type": "execute_result",
          "data": {
            "text/plain": [
              "(tensor([[18.3260],\n",
              "         [18.3240],\n",
              "         [18.3264],\n",
              "         [18.3334]], device='cuda:0', grad_fn=<AddmmBackward0>),\n",
              " tensor([[24.9000],\n",
              "         [33.5000],\n",
              "         [14.6000],\n",
              "         [15.2000]], device='cuda:0'))"
            ]
          },
          "metadata": {},
          "execution_count": 123
        }
      ]
    }
  ]
}